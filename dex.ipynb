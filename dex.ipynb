{
 "cells": [
  {
   "cell_type": "markdown",
   "metadata": {},
   "source": [
    "Burp..."
   ]
  },
  {
   "cell_type": "markdown",
   "metadata": {},
   "source": [
    "POST /ShareWebServices/Services/General/LoginPublisherAccountByName HTTP/1.1\n",
    "Host: share2.dexcom.com\n",
    "Content-Type: application/json\n",
    "Connection: close\n",
    "Accept: application/json\n",
    "User-Agent: CGM-Store-1.6/19 CFNetwork/808.2.16 Darwin/16.3.0\n",
    "Content-Length: 101\n",
    "Accept-Language: en-us\n",
    "\n",
    "{\"password\":\"####\",\"applicationId\":\"####\",\"accountName\":\"####\"}"
   ]
  },
  {
   "cell_type": "markdown",
   "metadata": {},
   "source": [
    "POST /ShareWebServices/Services/Publisher/ListPublisherAccountSubscriptions?sessionId=#### HTTP/1.1\n",
    "Host: share2.dexcom.com\n",
    "Connection: close\n",
    "Accept: application/json\n",
    "User-Agent: CGM-Store-1.6/19 CFNetwork/808.2.16 Darwin/16.3.0\n",
    "Accept-Language: en-us\n",
    "Content-Length: 0\n",
    "\n",
    "HTTP/1.1 200 OK\n",
    "Server: Microsoft-IIS/8.5\n",
    "X-AspNet-Version: 4.0.30319\n",
    "Cache-Control: private\n",
    "Content-Type: application/json; charset=utf-8\n",
    "Date: Sun, 19 Feb 2017 16:34:53 GMT\n",
    "Connection: close\n",
    "Content-Length: 507\n",
    "\n",
    "[{\"ContactId\":\"####\",\"ContactName\":\"Bobby\",\"DateTimeCreated\":{\"DateTime\":\"\\/Date(1480532932105)\\/\",\"OffsetMinutes\":0},\"DateTimeModified\":{\"DateTime\":\"\\/Date(1480533606686)\\/\",\"OffsetMinutes\":0},\"DisplayName\":\"####\",\"InviteExpires\":{\"DateTime\":\"\\/Date(1481137732089)\\/\",\"OffsetMinutes\":0},\"IsEnabled\":true,\"IsMonitoringSessionActive\":true,\"Permissions\":1,\"State\":6,\"SubscriberId\":\"####\",\"SubscriptionId\":\"####\"}]"
   ]
  },
  {
   "cell_type": "markdown",
   "metadata": {},
   "source": [
    "POST /ShareWebServices/Services/Publisher/ReadContact?sessionId=####&contactId=#### HTTP/1.1\n",
    "Host: share2.dexcom.com\n",
    "Connection: close\n",
    "Accept: application/json\n",
    "User-Agent: CGM-Store-1.6/19 CFNetwork/808.2.16 Darwin/16.3.0\n",
    "Accept-Language: en-us\n",
    "Content-Length: 0\n",
    "\n",
    "HTTP/1.1 200 OK\n",
    "Server: Microsoft-IIS/8.5\n",
    "X-AspNet-Version: 4.0.30319\n",
    "Cache-Control: private\n",
    "Content-Type: application/json; charset=utf-8\n",
    "Date: Sun, 19 Feb 2017 16:23:26 GMT\n",
    "Connection: close\n",
    "Content-Length: 404\n",
    "\n",
    "{\"ContactId\":\"####\",\"CountryCode\":\"\",\"DateTimeCreated\":{\"DateTime\":\"\\/Date(1480532931964)\\/\",\"OffsetMinutes\":0},\"DateTimeModified\":{\"DateTime\":\"\\/Date(1480532932089)\\/\",\"OffsetMinutes\":0},\"Email\":\"####\",\"LanguageCode\":\"\",\"Name\":\"#\",\"PublisherAccountId\":\"####\",\"State\":0,\"SubscriptionId\":\"####\"}"
   ]
  },
  {
   "cell_type": "markdown",
   "metadata": {},
   "source": [
    "POST /ShareWebServices/Services/General/ReadSubscriptionAlerts?sessionId=c####&subscriptionId=#### HTTP/1.1\n",
    "Host: share2.dexcom.com\n",
    "Connection: close\n",
    "Accept: application/json\n",
    "User-Agent: CGM-Store-1.6/19 CFNetwork/808.2.16 Darwin/16.3.0\n",
    "Accept-Language: en-us\n",
    "Content-Length: 0\n",
    "\n",
    "HTTP/1.1 200 OK\n",
    "Server: Microsoft-IIS/8.5\n",
    "X-AspNet-Version: 4.0.30319\n",
    "Cache-Control: private\n",
    "Content-Type: application/json; charset=utf-8\n",
    "Date: Sun, 19 Feb 2017 16:23:27 GMT\n",
    "Connection: close\n",
    "Content-Length: 753\n",
    "\n",
    "{\"FixedLowAlert\":{\"AlarmDelay\":\"PT0S\",\"AlertId\":\"####\",\"AlertType\":3,\"IsEnabled\":false,\"MaxValue\":55,\"MinValue\":39,\"RealarmDelay\":\"PT30M\",\"Sound\":\"UrgentLow.wav\"},\"HighAlert\":{\"AlarmDelay\":\"PT1H\",\"AlertId\":\"####\",\"AlertType\":1,\"IsEnabled\":false,\"MaxValue\":401,\"MinValue\":200,\"RealarmDelay\":\"PT2H\",\"Sound\":\"High.wav\"},\"LowAlert\":{\"AlarmDelay\":\"PT30M\",\"AlertId\":\"####\",\"AlertType\":2,\"IsEnabled\":false,\"MaxValue\":70,\"MinValue\":39,\"RealarmDelay\":\"PT2H\",\"Sound\":\"Low.wav\"},\"NoDataAlert\":{\"AlarmDelay\":\"PT1H\",\"AlertId\":\"####\",\"AlertType\":4,\"IsEnabled\":false,\"MaxValue\":401,\"MinValue\":39,\"RealarmDelay\":\"PT0S\",\"Sound\":\"NoData.wav\"}}"
   ]
  },
  {
   "cell_type": "markdown",
   "metadata": {},
   "source": [
    "POST /ShareWebServices/Services/Publisher/StopRemoteMonitoringSession?sessionId=#### HTTP/1.1\n",
    "Host: share2.dexcom.com\n",
    "Connection: close\n",
    "Accept: application/json\n",
    "User-Agent: CGM-Store-1.6/19 CFNetwork/808.2.16 Darwin/16.3.0\n",
    "Accept-Language: en-us\n",
    "Content-Length: 0\n",
    "\n"
   ]
  },
  {
   "cell_type": "markdown",
   "metadata": {},
   "source": [
    "POST /ShareWebServices/Services/Publisher/ReadPublisherLatestGlucoseValues?sessionId=####&minutes=1440&maxCount=1 HTTP/1.1\n",
    "Host: share2.dexcom.com\n",
    "Connection: close\n",
    "Accept: application/json\n",
    "User-Agent: CGM-Store-1.6/19 CFNetwork/808.2.16 Darwin/16.3.0\n",
    "Accept-Language: en-us\n",
    "Content-Length: 0\n",
    "\n",
    "HTTP/1.1 200 OK\n",
    "Server: Microsoft-IIS/8.5\n",
    "X-AspNet-Version: 4.0.30319\n",
    "Cache-Control: private\n",
    "Content-Type: application/json; charset=utf-8\n",
    "Date: Sun, 19 Feb 2017 16:24:13 GMT\n",
    "Connection: close\n",
    "Content-Length: 123\n",
    "\n",
    "[{\"DT\":\"\\/Date(1487523546000-0800)\\/\",\"ST\":\"\\/Date(1487512746000)\\/\",\"Trend\":4,\"Value\":104,\"WT\":\"\\/Date(1487512746000)\\/\"}]\n"
   ]
  },
  {
   "cell_type": "markdown",
   "metadata": {},
   "source": [
    "POST /ShareWebServices/Services/Publisher/ReadContact?sessionId=####&contactId=#### HTTP/1.1\n",
    "Host: share2.dexcom.com\n",
    "Connection: close\n",
    "Accept: application/json\n",
    "User-Agent: CGM-Store-1.6/19 CFNetwork/808.2.16 Darwin/16.3.0\n",
    "Accept-Language: en-us\n",
    "Content-Length: 0\n",
    "\n",
    "HTTP/1.1 200 OK\n",
    "Server: Microsoft-IIS/8.5\n",
    "X-AspNet-Version: 4.0.30319\n",
    "Cache-Control: private\n",
    "Content-Type: application/json; charset=utf-8\n",
    "Date: Sun, 19 Feb 2017 16:34:54 GMT\n",
    "Connection: close\n",
    "Content-Length: 404\n",
    "\n",
    "{\"ContactId\":\"####\",\"CountryCode\":\"\",\"DateTimeCreated\":{\"DateTime\":\"\\/Date(1480532931964)\\/\",\"OffsetMinutes\":0},\"DateTimeModified\":{\"DateTime\":\"\\/Date(1480532932089)\\/\",\"OffsetMinutes\":0},\"Email\":\"####\",\"LanguageCode\":\"\",\"Name\":\"#\",\"PublisherAccountId\":\"####\",\"State\":0,\"SubscriptionId\":\"0####\"}"
   ]
  },
  {
   "cell_type": "markdown",
   "metadata": {},
   "source": [
    "POST /ShareWebServices/Services/General/UpdateNamedValue HTTP/1.1\n",
    "Host: share2.dexcom.com\n",
    "Content-Type: application/json\n",
    "Connection: close\n",
    "Accept: application/json\n",
    "User-Agent: CGM-Store-1.6/19 CFNetwork/808.2.16 Darwin/16.3.0\n",
    "Content-Length: 278\n",
    "Accept-Language: en-us\n",
    "\n",
    "{\"value\":\"{\\n  \\\"dictionary\\\" : {\\n    \\\"shareToggle\\\" : false\\n  },\\n  \\\"appVersion\\\" : \\\"1.6.0\\\",\\n  \\\"timestamp\\\" : \\\"2017-02-19 16:23:25 +0000\\\"\\n}\",\"sessionId\":\"####\",\"partitionId\":\"####\",\"name\":\"shareToggle\"}"
   ]
  },
  {
   "cell_type": "markdown",
   "metadata": {},
   "source": [
    "POST /ShareWebServices/Services/Publisher/PostReceiverEgvRecords?sessionId=#### HTTP/1.1\n",
    "Host: share2.dexcom.com\n",
    "Content-Type: application/json\n",
    "Connection: close\n",
    "Accept: application/json\n",
    "User-Agent: CGM-Store-1.6/19 CFNetwork/808.2.16 Darwin/16.3.0\n",
    "Content-Length: 117\n",
    "Accept-Language: en-us\n",
    "\n",
    "{\"SN\":\"####\",\"Egvs\":[{\"ST\":\"\\/Date(1487522346000)\\/\",\"Value\":116,\"DT\":\"\\/Date(1487504346000)\\/\",\"Trend\":4}],\"TA\":0}"
   ]
  },
  {
   "cell_type": "markdown",
   "metadata": {
    "collapsed": true
   },
   "source": [
    "POST /ShareWebServices/Services/Publisher/StartRemoteMonitoringSession?sessionId=####&serialNumber=#### HTTP/1.1\n",
    "Host: share2.dexcom.com\n",
    "Connection: close\n",
    "Accept: application/json\n",
    "User-Agent: CGM-Store-1.6/19 CFNetwork/808.2.16 Darwin/16.3.0\n",
    "Accept-Language: en-us\n",
    "Content-Length: 0\n",
    "\n"
   ]
  },
  {
   "cell_type": "code",
   "execution_count": 5,
   "metadata": {
    "collapsed": false
   },
   "outputs": [
    {
     "name": "stdout",
     "output_type": "stream",
     "text": [
      "400\n"
     ]
    }
   ],
   "source": [
    "from __future__ import print_function\n",
    "\n",
    "import json\n",
    "import requests\n",
    "import urllib2\n",
    "\n",
    "method = \"POST\"\n",
    "handler = urllib2.HTTPHandler()\n",
    "opener = urllib2.build_opener(handler)\n",
    "url = 'https://share1.dexcom.com/ShareWebServices/Services/General/LoginPublisherAccountByName'\n",
    "url2 = 'https://share1.dexcom.com/ShareWebServices/Services/Publisher/ReadPublisherLatestGlucoseValues?sessionID='\n",
    "url2a = '&minutes=1440&maxCount=1'\n",
    "payload ={\"password\": \"####\", \"applicationId\" : \"####\", \"accountName\": \"####\"}\n",
    "request = urllib2.Request(url, json.dumps(payload))\n",
    "\n",
    "request.add_header(\"Content-Type\",'application/json')\n",
    "request.add_header(\"User-Agent\",'CGM-Store-1.6/19 CFNetwork/808.2.16 Darwin/16.3.0')\n",
    "request.add_header(\"Accept\",'application/json')\n",
    "request.get_method = lambda: method\n",
    "\n",
    "try:\n",
    "    connection = opener.open(request)\n",
    "except urllib2.HTTPError,e:\n",
    "    connection = e\n",
    "if connection.code == 200:\n",
    "    data = connection.read()\n",
    "    data = data[1:-1]\n",
    "    print('sessionID=' + data)\n",
    "    url3 = url2 + data + url2a\n",
    "    print(url3)\n",
    "    request2 = urllib2.Request(url3)\n",
    "    request2.post_method = lambda: method\n",
    "    request2.add_header(\"Accept\",'application/json')\n",
    "    request2.add_header(\"Content-Length\",'0')\n",
    "    payload2 ={\"\":\"\"}\n",
    "    try:\n",
    "        connection2 = opener.open(request2, json.dumps(payload2))\n",
    "    except urllib2.HTTPError,e:\n",
    "        connection2 = e\n",
    "    if connection2.code == 200:\n",
    "        data2 = connection2.read()\n",
    "        data3 = json.loads(data2)\n",
    "        if data3:\n",
    "            glucose = data3[0][\"Value\"]\n",
    "            print(data3)    \n",
    "    else:\n",
    "        print(connection2.code)\n",
    "else:\n",
    "    print(connection.code)\n",
    "    \n",
    "\n",
    "\n"
   ]
  },
  {
   "cell_type": "code",
   "execution_count": null,
   "metadata": {
    "collapsed": true
   },
   "outputs": [],
   "source": []
  }
 ],
 "metadata": {
  "kernelspec": {
   "display_name": "Python 2",
   "language": "python",
   "name": "python2"
  }
 },
 "nbformat": 4,
 "nbformat_minor": 0
}
